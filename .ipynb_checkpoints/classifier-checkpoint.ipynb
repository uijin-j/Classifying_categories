{
 "cells": [
  {
   "cell_type": "markdown",
   "metadata": {},
   "source": [
    "## 1. 데이터 로드!"
   ]
  },
  {
   "cell_type": "code",
   "execution_count": 84,
   "metadata": {},
   "outputs": [],
   "source": [
    "import os\n",
    "import json\n",
    "import h5py\n",
    "\n",
    "import pandas as pd\n",
    "import numpy as np"
   ]
  },
  {
   "cell_type": "markdown",
   "metadata": {},
   "source": [
    "### 우리가 분류해야되는 Class를 확인해보자\n",
    " ❕ 원래 대/중/소/세분류로 나누어져 있지만, 대분류만 Classify할 예정이다!"
   ]
  },
  {
   "cell_type": "code",
   "execution_count": 85,
   "metadata": {},
   "outputs": [
    {
     "name": "stdout",
     "output_type": "stream",
     "text": [
      "대분류 갯수 : 57\n"
     ]
    }
   ],
   "source": [
    "cate = json.loads(open('./data/cate1.json', 'rb').read().decode('utf-8'))\n",
    "count_big = len(cate['b']);\n",
    "print(f'대분류 갯수 : {count_big}')"
   ]
  },
  {
   "cell_type": "code",
   "execution_count": 86,
   "metadata": {},
   "outputs": [
    {
     "data": {
      "text/plain": [
       "\"{'가공식품/과자/초콜릿': 27, '수납/정리/선반': 21, '디카/캠코더/주변기기': 32, '침구/커튼/카페트': 8, '데스크탑/모니터/PC부품': 39, '상품권/e쿠폰/서비스': 54, '해외여행': 56, '내비/블랙박스/하이패스': 52, '홈/인테리어/가드닝': 11, '주방가전/냉장고/전기밥솥': 42, '영상가전/TV/홈시어터': 38, '도서/음반/DVD': 53, '쥬얼리/시계/액세서리': 20, '노트북/태블릿PC': 49, '향수/바디/헤어': 37, '문구/사무/용지': 35, '게임/주변기기': 29, '거실/주방가구': 36, '홈오피스/키즈가구': 45, '국내여행': 55, '자동차용품': 34, '자전거/인라인/모터사이클': 44, '반려동물/애완용품': 50, '욕실/청소/세제': 40, '유아동의류/신발/가방': 22, '이미용/건강/욕실가전': 26, '쌀/과일/농축수산물': 51, '음향가전/스피커/전자사전': 25, '건강관리/실버용품\""
      ]
     },
     "execution_count": 86,
     "metadata": {},
     "output_type": "execute_result"
    }
   ],
   "source": [
    "str(cate['b'])[:500] # 대분류 조금만 살펴보기!"
   ]
  },
  {
   "cell_type": "code",
   "execution_count": 87,
   "metadata": {},
   "outputs": [
    {
     "data": {
      "text/plain": [
       "'가공식품/과자/초콜릿'"
      ]
     },
     "execution_count": 87,
     "metadata": {},
     "output_type": "execute_result"
    }
   ],
   "source": [
    "cate_dict = {v:k for k,v in cate['b'].items()} # key-value바꾼 딕셔너리 만들기!\n",
    "cate_dict[27]"
   ]
  },
  {
   "cell_type": "markdown",
   "metadata": {},
   "source": [
    "### 우리가 traing해야되는 data를 살펴보자"
   ]
  },
  {
   "cell_type": "code",
   "execution_count": 88,
   "metadata": {},
   "outputs": [],
   "source": [
    "data = h5py.File('./data/train.chunk.01', 'r')"
   ]
  },
  {
   "cell_type": "code",
   "execution_count": 89,
   "metadata": {},
   "outputs": [],
   "source": [
    "train = data['train']"
   ]
  },
  {
   "cell_type": "code",
   "execution_count": 90,
   "metadata": {},
   "outputs": [
    {
     "data": {
      "text/plain": [
       "<KeysViewHDF5 ['bcateid', 'brand', 'dcateid', 'img_feat', 'maker', 'mcateid', 'model', 'pid', 'price', 'product', 'scateid', 'updttm']>"
      ]
     },
     "execution_count": 90,
     "metadata": {},
     "output_type": "execute_result"
    }
   ],
   "source": [
    "train.keys() # 상품의 feature"
   ]
  },
  {
   "cell_type": "markdown",
   "metadata": {},
   "source": [
    "bcateid | brand | dcateid | img_feat | maker | mcateid | model | pid | price | product | scateid | updttm\n",
    "-------- | ------ | -------- | -------- | ------ | -------- | ------ | ------ | ---- | ------ | --------- | -------------\n",
    "대분류ID | 브랜드 | 세분류ID | 이미지특징 | 제조사 | 중분류ID | 상품ID | 상품ID | 가격 | 상품명 | 소분류ID | 업데이트 시간"
   ]
  },
  {
   "cell_type": "code",
   "execution_count": 91,
   "metadata": {},
   "outputs": [
    {
     "name": "stdout",
     "output_type": "stream",
     "text": [
      "bcateid: 1\n",
      "brand: 퍼즐라이프\n",
      "dcateid: -1\n",
      "img_feat: [0.75723773 0.8849334  0.0776659  ... 0.         1.0283663  0.0683253 ]\n",
      "maker: 상품상세설명 참조\n",
      "mcateid: 1\n",
      "model: 퍼즐라이프 직소퍼즐 바다거북의 여행\n",
      "pid: b'O4486751463'\n",
      "price: 16520\n",
      "product: 직소퍼즐 - 1000조각 바다거북의 여행 (PL1275)\n",
      "scateid: 2\n",
      "updttm: b'20180227091029'\n"
     ]
    }
   ],
   "source": [
    "# 첫 데이터만 살펴보자!\n",
    "for i in train.keys():\n",
    "    sample = train[i][0]\n",
    "    if i in ['brand', 'product', 'maker', 'model']:\n",
    "        sample = sample.decode('utf-8')\n",
    "    print(f'{i}: {sample}');"
   ]
  },
  {
   "cell_type": "code",
   "execution_count": 92,
   "metadata": {},
   "outputs": [
    {
     "data": {
      "text/plain": [
       "<HDF5 dataset \"img_feat\": shape (1000000, 2048), type \"<f4\">"
      ]
     },
     "execution_count": 92,
     "metadata": {},
     "output_type": "execute_result"
    }
   ],
   "source": [
    "train[\"img_feat\"]"
   ]
  },
  {
   "cell_type": "markdown",
   "metadata": {},
   "source": [
    "~~오픈소스 플젝은 이미지 Classification을 해서 재밌게 해야지 라고 생각했는데 이미지가 픽셀 정보가 아니라 이미 처리가 되어있었다.. 이걸 원본 이미지로 돌릴 순 없겠죠..?😂 ~~"
   ]
  },
  {
   "cell_type": "code",
   "execution_count": 93,
   "metadata": {},
   "outputs": [
    {
     "name": "stdout",
     "output_type": "stream",
     "text": [
      "데이터 갯수 : 1000000\n"
     ]
    }
   ],
   "source": [
    "count_data = len(train[\"bcateid\"])\n",
    "print(f'데이터 갯수 : {count_data}')"
   ]
  },
  {
   "cell_type": "markdown",
   "metadata": {},
   "source": [
    "## 2. Train Data를 Train / Validation으로 분리!\n",
    "\n",
    "카카오 아레나에서 Test set은 제공해주므로 Validation set만 만들 것이다!(But, 이번 플젝은 테스트까진 안하고 Validation까지만!)"
   ]
  },
  {
   "cell_type": "code",
   "execution_count": 94,
   "metadata": {},
   "outputs": [
    {
     "ename": "MemoryError",
     "evalue": "Unable to allocate 4.88 GiB for an array with shape (640000, 2048) and data type float32",
     "output_type": "error",
     "traceback": [
      "\u001b[1;31m---------------------------------------------------------------------------\u001b[0m",
      "\u001b[1;31mMemoryError\u001b[0m                               Traceback (most recent call last)",
      "\u001b[1;32m<ipython-input-94-e59f526d2c2d>\u001b[0m in \u001b[0;36m<module>\u001b[1;34m\u001b[0m\n\u001b[0;32m      1\u001b[0m \u001b[1;31m# train : vlidation : test = 640000 : 160000 : 200000\u001b[0m\u001b[1;33m\u001b[0m\u001b[1;33m\u001b[0m\u001b[1;33m\u001b[0m\u001b[0m\n\u001b[0;32m      2\u001b[0m \u001b[1;33m\u001b[0m\u001b[0m\n\u001b[1;32m----> 3\u001b[1;33m \u001b[0mX_train\u001b[0m \u001b[1;33m=\u001b[0m \u001b[0mtrain\u001b[0m\u001b[1;33m[\u001b[0m\u001b[1;34m\"img_feat\"\u001b[0m\u001b[1;33m]\u001b[0m\u001b[1;33m[\u001b[0m\u001b[1;33m:\u001b[0m\u001b[1;36m640000\u001b[0m\u001b[1;33m]\u001b[0m\u001b[1;33m\u001b[0m\u001b[1;33m\u001b[0m\u001b[0m\n\u001b[0m\u001b[0;32m      4\u001b[0m \u001b[0mX_val\u001b[0m \u001b[1;33m=\u001b[0m \u001b[0mtrain\u001b[0m\u001b[1;33m[\u001b[0m\u001b[1;34m\"img_feat\"\u001b[0m\u001b[1;33m]\u001b[0m\u001b[1;33m[\u001b[0m\u001b[1;36m640000\u001b[0m\u001b[1;33m:\u001b[0m\u001b[1;36m640000\u001b[0m\u001b[1;33m+\u001b[0m\u001b[1;36m160000\u001b[0m\u001b[1;33m]\u001b[0m\u001b[1;33m\u001b[0m\u001b[1;33m\u001b[0m\u001b[0m\n\u001b[0;32m      5\u001b[0m \u001b[0mX_test\u001b[0m \u001b[1;33m=\u001b[0m \u001b[0mtrain\u001b[0m\u001b[1;33m[\u001b[0m\u001b[1;34m\"img_feat\"\u001b[0m\u001b[1;33m]\u001b[0m\u001b[1;33m[\u001b[0m\u001b[1;36m640000\u001b[0m\u001b[1;33m+\u001b[0m\u001b[1;36m160000\u001b[0m\u001b[1;33m:\u001b[0m\u001b[1;33m]\u001b[0m\u001b[1;33m\u001b[0m\u001b[1;33m\u001b[0m\u001b[0m\n",
      "\u001b[1;32mh5py\\_objects.pyx\u001b[0m in \u001b[0;36mh5py._objects.with_phil.wrapper\u001b[1;34m()\u001b[0m\n",
      "\u001b[1;32mh5py\\_objects.pyx\u001b[0m in \u001b[0;36mh5py._objects.with_phil.wrapper\u001b[1;34m()\u001b[0m\n",
      "\u001b[1;32mC:\\ProgramData\\Anaconda3\\lib\\site-packages\\h5py\\_hl\\dataset.py\u001b[0m in \u001b[0;36m__getitem__\u001b[1;34m(self, args)\u001b[0m\n\u001b[0;32m    560\u001b[0m         \u001b[0msingle_element\u001b[0m \u001b[1;33m=\u001b[0m \u001b[0mselection\u001b[0m\u001b[1;33m.\u001b[0m\u001b[0mmshape\u001b[0m \u001b[1;33m==\u001b[0m \u001b[1;33m(\u001b[0m\u001b[1;33m)\u001b[0m\u001b[1;33m\u001b[0m\u001b[1;33m\u001b[0m\u001b[0m\n\u001b[0;32m    561\u001b[0m         \u001b[0mmshape\u001b[0m \u001b[1;33m=\u001b[0m \u001b[1;33m(\u001b[0m\u001b[1;36m1\u001b[0m\u001b[1;33m,\u001b[0m\u001b[1;33m)\u001b[0m \u001b[1;32mif\u001b[0m \u001b[0msingle_element\u001b[0m \u001b[1;32melse\u001b[0m \u001b[0mselection\u001b[0m\u001b[1;33m.\u001b[0m\u001b[0mmshape\u001b[0m\u001b[1;33m\u001b[0m\u001b[1;33m\u001b[0m\u001b[0m\n\u001b[1;32m--> 562\u001b[1;33m         \u001b[0marr\u001b[0m \u001b[1;33m=\u001b[0m \u001b[0mnumpy\u001b[0m\u001b[1;33m.\u001b[0m\u001b[0mndarray\u001b[0m\u001b[1;33m(\u001b[0m\u001b[0mmshape\u001b[0m\u001b[1;33m,\u001b[0m \u001b[0mnew_dtype\u001b[0m\u001b[1;33m,\u001b[0m \u001b[0morder\u001b[0m\u001b[1;33m=\u001b[0m\u001b[1;34m'C'\u001b[0m\u001b[1;33m)\u001b[0m\u001b[1;33m\u001b[0m\u001b[1;33m\u001b[0m\u001b[0m\n\u001b[0m\u001b[0;32m    563\u001b[0m \u001b[1;33m\u001b[0m\u001b[0m\n\u001b[0;32m    564\u001b[0m         \u001b[1;31m# HDF5 has a bug where if the memory shape has a different rank\u001b[0m\u001b[1;33m\u001b[0m\u001b[1;33m\u001b[0m\u001b[1;33m\u001b[0m\u001b[0m\n",
      "\u001b[1;31mMemoryError\u001b[0m: Unable to allocate 4.88 GiB for an array with shape (640000, 2048) and data type float32"
     ]
    }
   ],
   "source": [
    "# train : vlidation : test = 640000 : 160000 : 200000\n",
    "\n",
    "X_train = train[\"img_feat\"][:640000]\n",
    "X_val = train[\"img_feat\"][640000:640000+160000]\n",
    "X_test = train[\"img_feat\"][640000+160000:]\n",
    "\n",
    "y_train = train[\"bcateid\"][:640000]\n",
    "y_val = train[\"bcateid\"][640000:640000+160000]\n",
    "y_test = train[\"bcateid\"][640000+160000:]"
   ]
  },
  {
   "cell_type": "markdown",
   "metadata": {},
   "source": [
    "## 3. 모델 training\n",
    "\n",
    "데이터 전처리를 해야되지만.. 앞에서 마주친 작지만 나를 힘들게한 오류들 때문에.. 시간이 부족하니 냅다 훈련부터 해본다..! \n",
    "\n",
    "❕ 모델은 img_feat만 가지고 훈련해볼 것이다!\n",
    "\n",
    "☑️ Hyperparameter\n",
    "\n",
    "| Hyperparameter | My Model | \n",
    "| :---------- | :---------------------------------------------- |\n",
    "| # input neurons | 2048(img_feat의 colums) | \n",
    "| # hidden layers | 1 |\n",
    "| # neurons per hidden layer | 100 |\n",
    "| # output neurons | 57(대분류 갯수) |\n",
    "| output layer activation | Softmax(1개의 class에만 할당될 수 있어서!) |\n",
    "| Loss function | Cross entropy(Classification 문제라서!) |"
   ]
  },
  {
   "cell_type": "code",
   "execution_count": 95,
   "metadata": {},
   "outputs": [],
   "source": [
    "from keras.models import Sequential\n",
    "from keras import layers\n",
    "\n",
    "model = Sequential()\n",
    "model.add(layers.Dense(2048, activation='relu'))# input layer\n",
    "model.add(layers.Dense(100, activation='relu')) # hidden layer\n",
    "model.add(layers.Dense(57, activation='softmax')) # output layer\n",
    "\n",
    "model.compile(optimizer='rmsprop',\n",
    "              loss='categorical_crossentropy',\n",
    "              metrics=['accuracy'])"
   ]
  },
  {
   "cell_type": "code",
   "execution_count": null,
   "metadata": {},
   "outputs": [],
   "source": [
    "history = model.fit(X_train,\n",
    "                    y_train,\n",
    "                    epochs=20,\n",
    "                    validation_data=(X_val, y_val))"
   ]
  },
  {
   "cell_type": "markdown",
   "metadata": {},
   "source": [
    "### 결과를 한 번 그려봅시다!"
   ]
  },
  {
   "cell_type": "code",
   "execution_count": null,
   "metadata": {},
   "outputs": [],
   "source": [
    "import matplotlib.pyplot as plt\n",
    "\n",
    "acc = history.history['acc']\n",
    "val_acc = history.history['val_acc']\n",
    "loss = history.history['loss']\n",
    "val_loss = history.history['val_loss']\n",
    "\n",
    "epochs = range(1, len(acc) + 1)\n",
    "\n",
    "plt.plot(epochs, acc, 'bo', label='Training acc')\n",
    "plt.plot(epochs, val_acc, 'b', label='Validation acc')\n",
    "plt.title('Training and Validation accuracy')\n",
    "plt.legend()\n",
    "\n",
    "plt.figure()\n",
    "\n",
    "plt.plot(epochs, loss, 'bo', label='Training loss')\n",
    "plt.plot(epochs, val_loss, 'b', label='Validation loss')\n",
    "plt.title('Training and Validation loss')\n",
    "plt.legend()\n",
    "\n",
    "plt.show()"
   ]
  },
  {
   "cell_type": "code",
   "execution_count": null,
   "metadata": {},
   "outputs": [],
   "source": [
    "model.evaluate(X_test, y_test)"
   ]
  },
  {
   "cell_type": "markdown",
   "metadata": {},
   "source": [
    "## 최종 정확도: 👏👏\n",
    "\n",
    "아주 만족스럽진 않지만, 끝까지 마무리한 나 자신이 너무 대견하다🥺 아쉬운 결과가 아른거린다면 이 모델을 좀 더 개선시키러 돌아와야지..!"
   ]
  }
 ],
 "metadata": {
  "kernelspec": {
   "display_name": "Python 3",
   "language": "python",
   "name": "python3"
  },
  "language_info": {
   "codemirror_mode": {
    "name": "ipython",
    "version": 3
   },
   "file_extension": ".py",
   "mimetype": "text/x-python",
   "name": "python",
   "nbconvert_exporter": "python",
   "pygments_lexer": "ipython3",
   "version": "3.8.5"
  }
 },
 "nbformat": 4,
 "nbformat_minor": 4
}

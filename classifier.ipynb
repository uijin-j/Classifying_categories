{
 "cells": [
  {
   "cell_type": "markdown",
   "metadata": {},
   "source": [
    "## 1. 데이터 로드!"
   ]
  },
  {
   "cell_type": "code",
   "execution_count": 23,
   "metadata": {},
   "outputs": [],
   "source": [
    "import os\n",
    "import json\n",
    "import h5py\n",
    "\n",
    "import pandas as pd\n",
    "import numpy as np"
   ]
  },
  {
   "cell_type": "markdown",
   "metadata": {},
   "source": [
    "### 우리가 분류해야되는 Class를 확인해보자\n",
    " ❕ 원래 대/중/소/세분류로 나누어져 있지만, 대분류만 Classify할 예정이다!"
   ]
  },
  {
   "cell_type": "code",
   "execution_count": 2,
   "metadata": {},
   "outputs": [
    {
     "name": "stdout",
     "output_type": "stream",
     "text": [
      "대분류 갯수 : 57\n"
     ]
    }
   ],
   "source": [
    "cate = json.loads(open('./data/cate1.json', 'rb').read().decode('utf-8'))\n",
    "count_big = len(cate['b']);\n",
    "print(f'대분류 갯수 : {count_big}')"
   ]
  },
  {
   "cell_type": "code",
   "execution_count": 3,
   "metadata": {},
   "outputs": [
    {
     "data": {
      "text/plain": [
       "\"{'가공식품/과자/초콜릿': 27, '수납/정리/선반': 21, '디카/캠코더/주변기기': 32, '침구/커튼/카페트': 8, '데스크탑/모니터/PC부품': 39, '상품권/e쿠폰/서비스': 54, '해외여행': 56, '내비/블랙박스/하이패스': 52, '홈/인테리어/가드닝': 11, '주방가전/냉장고/전기밥솥': 42, '영상가전/TV/홈시어터': 38, '도서/음반/DVD': 53, '쥬얼리/시계/액세서리': 20, '노트북/태블릿PC': 49, '향수/바디/헤어': 37, '문구/사무/용지': 35, '게임/주변기기': 29, '거실/주방가구': 36, '홈오피스/키즈가구': 45, '국내여행': 55, '자동차용품': 34, '자전거/인라인/모터사이클': 44, '반려동물/애완용품': 50, '욕실/청소/세제': 40, '유아동의류/신발/가방': 22, '이미용/건강/욕실가전': 26, '쌀/과일/농축수산물': 51, '음향가전/스피커/전자사전': 25, '건강관리/실버용품\""
      ]
     },
     "execution_count": 3,
     "metadata": {},
     "output_type": "execute_result"
    }
   ],
   "source": [
    "str(cate['b'])[:500] # 대분류 조금만 살펴보기!"
   ]
  },
  {
   "cell_type": "code",
   "execution_count": 34,
   "metadata": {},
   "outputs": [
    {
     "data": {
      "text/plain": [
       "'가공식품/과자/초콜릿'"
      ]
     },
     "execution_count": 34,
     "metadata": {},
     "output_type": "execute_result"
    }
   ],
   "source": [
    "cate_dict = {v:k for k,v in cate['b'].items()} # key-value바꾼 딕셔너리 만들기!\n",
    "cate_dict[27]"
   ]
  },
  {
   "cell_type": "markdown",
   "metadata": {},
   "source": [
    "### 우리가 traing해야되는 data를 살펴보자"
   ]
  },
  {
   "cell_type": "code",
   "execution_count": 5,
   "metadata": {},
   "outputs": [],
   "source": [
    "data = h5py.File('./data/train.chunk.01', 'r')"
   ]
  },
  {
   "cell_type": "code",
   "execution_count": 6,
   "metadata": {},
   "outputs": [],
   "source": [
    "train = data['train']"
   ]
  },
  {
   "cell_type": "code",
   "execution_count": 7,
   "metadata": {},
   "outputs": [
    {
     "data": {
      "text/plain": [
       "<KeysViewHDF5 ['bcateid', 'brand', 'dcateid', 'img_feat', 'maker', 'mcateid', 'model', 'pid', 'price', 'product', 'scateid', 'updttm']>"
      ]
     },
     "execution_count": 7,
     "metadata": {},
     "output_type": "execute_result"
    }
   ],
   "source": [
    "train.keys() # 상품의 feature"
   ]
  },
  {
   "cell_type": "markdown",
   "metadata": {},
   "source": [
    "bcateid | brand | dcateid | img_feat | maker | mcateid | model | pid | price | product | scateid | updttm\n",
    "-------- | ------ | -------- | -------- | ------ | -------- | ------ | ------ | ---- | ------ | --------- | -------------\n",
    "대분류ID | 브랜드 | 세분류ID | 이미지특징 | 제조사 | 중분류ID | 상품ID | 상품ID | 가격 | 상품명 | 소분류ID | 업데이트 시간"
   ]
  },
  {
   "cell_type": "code",
   "execution_count": 8,
   "metadata": {},
   "outputs": [
    {
     "name": "stdout",
     "output_type": "stream",
     "text": [
      "bcateid: 1\n",
      "brand: 퍼즐라이프\n",
      "dcateid: -1\n",
      "img_feat: [0.75723773 0.8849334  0.0776659  ... 0.         1.0283663  0.0683253 ]\n",
      "maker: 상품상세설명 참조\n",
      "mcateid: 1\n",
      "model: 퍼즐라이프 직소퍼즐 바다거북의 여행\n",
      "pid: b'O4486751463'\n",
      "price: 16520\n",
      "product: 직소퍼즐 - 1000조각 바다거북의 여행 (PL1275)\n",
      "scateid: 2\n",
      "updttm: b'20180227091029'\n"
     ]
    }
   ],
   "source": [
    "# 첫 데이터만 살펴보자!\n",
    "for i in train.keys():\n",
    "    sample = train[i][0]\n",
    "    if i in ['brand', 'product', 'maker', 'model']:\n",
    "        sample = sample.decode('utf-8')\n",
    "    print(f'{i}: {sample}');"
   ]
  },
  {
   "cell_type": "code",
   "execution_count": 9,
   "metadata": {},
   "outputs": [
    {
     "data": {
      "text/plain": [
       "<HDF5 dataset \"img_feat\": shape (1000000, 2048), type \"<f4\">"
      ]
     },
     "execution_count": 9,
     "metadata": {},
     "output_type": "execute_result"
    }
   ],
   "source": [
    "train[\"img_feat\"]"
   ]
  },
  {
   "cell_type": "markdown",
   "metadata": {},
   "source": [
    "~~오픈소스 플젝은 이미지 Classification을 해서 재밌게 해야지 라고 생각했는데 이미지가 픽셀 정보가 아니라 이미 처리가 되어있었다.. 이걸 원본 이미지로 돌릴 순 없겠죠..?😂 ~~"
   ]
  },
  {
   "cell_type": "code",
   "execution_count": 10,
   "metadata": {},
   "outputs": [
    {
     "name": "stdout",
     "output_type": "stream",
     "text": [
      "데이터 갯수 : 1000000\n"
     ]
    }
   ],
   "source": [
    "count_data = len(train[\"bcateid\"])\n",
    "print(f'데이터 갯수 : {count_data}')"
   ]
  },
  {
   "cell_type": "markdown",
   "metadata": {},
   "source": [
    "## 2. Train Data를 Train / Validation으로 분리!\n",
    "\n",
    "카카오 아레나에서 Test set은 제공해주므로 Validation set만 만들 것이다!(But, 이번 플젝은 테스트까진 안하고 Validation까지만!)"
   ]
  },
  {
   "cell_type": "code",
   "execution_count": 56,
   "metadata": {},
   "outputs": [],
   "source": [
    "from keras.utils.np_utils import to_categorical\n",
    "\n",
    "on_hot_label = to_categorical(train[\"bcateid\"]) # 대분류를 one-hot 인코딩!"
   ]
  },
  {
   "cell_type": "code",
   "execution_count": 57,
   "metadata": {},
   "outputs": [
    {
     "data": {
      "text/plain": [
       "array([[0., 1., 0., ..., 0., 0., 0.],\n",
       "       [0., 0., 0., ..., 0., 0., 0.],\n",
       "       [0., 0., 0., ..., 0., 0., 0.],\n",
       "       ...,\n",
       "       [0., 0., 0., ..., 0., 0., 0.],\n",
       "       [0., 0., 0., ..., 0., 0., 0.],\n",
       "       [0., 0., 0., ..., 0., 0., 0.]], dtype=float32)"
      ]
     },
     "execution_count": 57,
     "metadata": {},
     "output_type": "execute_result"
    }
   ],
   "source": [
    "on_hot_label"
   ]
  },
  {
   "cell_type": "code",
   "execution_count": 58,
   "metadata": {},
   "outputs": [],
   "source": [
    "# train : vlidation : test = 640000 : 160000 : 200000\n",
    "\n",
    "X_train = train[\"img_feat\"][:6400]\n",
    "X_val = train[\"img_feat\"][6400:6400+1600]\n",
    "X_test = train[\"img_feat\"][6400+1600:]\n",
    "\n",
    "y_train = on_hot_label[:6400]\n",
    "y_val = on_hot_label[6400:6400+1600]\n",
    "y_test = on_hot_label[6400+1600:]"
   ]
  },
  {
   "cell_type": "code",
   "execution_count": 59,
   "metadata": {},
   "outputs": [
    {
     "data": {
      "text/plain": [
       "array([[0., 0., 0., ..., 0., 0., 0.],\n",
       "       [0., 0., 0., ..., 0., 0., 0.],\n",
       "       [0., 0., 0., ..., 0., 0., 0.],\n",
       "       ...,\n",
       "       [0., 0., 0., ..., 0., 0., 0.],\n",
       "       [0., 0., 0., ..., 0., 0., 0.],\n",
       "       [0., 0., 0., ..., 0., 0., 0.]], dtype=float32)"
      ]
     },
     "execution_count": 59,
     "metadata": {},
     "output_type": "execute_result"
    }
   ],
   "source": [
    " y_train[1:]"
   ]
  },
  {
   "cell_type": "markdown",
   "metadata": {},
   "source": [
    "## 3. 모델 training\n",
    "\n",
    "데이터 전처리를 해야되지만.. 앞에서 마주친 작지만 나를 힘들게한 오류들 때문에.. 시간이 부족하니 냅다 훈련부터 해본다..! \n",
    "\n",
    "❕ 모델은 img_feat만 가지고 훈련해볼 것이다!\n",
    "\n",
    "☑️ Hyperparameter\n",
    "\n",
    "| Hyperparameter | My Model | \n",
    "| :---------- | :---------------------------------------------- |\n",
    "| # input neurons | 2048(img_feat의 colums) | \n",
    "| # hidden layers | 1 |\n",
    "| # neurons per hidden layer | 100 |\n",
    "| # output neurons | 57(대분류 갯수) |\n",
    "| output layer activation | Softmax(1개의 class에만 할당될 수 있어서!) |\n",
    "| Loss function | Cross entropy(Classification 문제라서!) |\n",
    "\n",
    "*왜인지 모르겠지만 output neurons을 53으로 바꾸라고 오류가 나서 57 -> 53으로 바꾸었다!!*"
   ]
  },
  {
   "cell_type": "code",
   "execution_count": 75,
   "metadata": {},
   "outputs": [],
   "source": [
    "from keras.models import Sequential\n",
    "from keras import layers\n",
    "\n",
    "model = Sequential()\n",
    "model.add(layers.Dense(2048, activation='relu'))# input layer\n",
    "model.add(layers.Dense(100, activation='relu')) # hidden layer\n",
    "model.add(layers.Dense(53, activation='softmax')) # output layer\n",
    "\n",
    "model.compile(optimizer='rmsprop',\n",
    "              loss='categorical_crossentropy',\n",
    "              metrics=['accuracy'])"
   ]
  },
  {
   "cell_type": "code",
   "execution_count": 65,
   "metadata": {},
   "outputs": [
    {
     "name": "stdout",
     "output_type": "stream",
     "text": [
      "Epoch 1/20\n",
      "200/200 [==============================] - 29s 128ms/step - loss: 1.3636 - accuracy: 0.6205 - val_loss: 1.6307 - val_accuracy: 0.5938\n",
      "Epoch 2/20\n",
      "200/200 [==============================] - 24s 122ms/step - loss: 1.0001 - accuracy: 0.7055 - val_loss: 1.8160 - val_accuracy: 0.5494\n",
      "Epoch 3/20\n",
      "200/200 [==============================] - 26s 131ms/step - loss: 0.7387 - accuracy: 0.7770 - val_loss: 1.7530 - val_accuracy: 0.6031\n",
      "Epoch 4/20\n",
      "200/200 [==============================] - 28s 138ms/step - loss: 0.5332 - accuracy: 0.8352 - val_loss: 1.8920 - val_accuracy: 0.5944\n",
      "Epoch 5/20\n",
      "200/200 [==============================] - 26s 129ms/step - loss: 0.3823 - accuracy: 0.8752 - val_loss: 2.0299 - val_accuracy: 0.5900\n",
      "Epoch 6/20\n",
      "200/200 [==============================] - 26s 131ms/step - loss: 0.2854 - accuracy: 0.9048 - val_loss: 2.1851 - val_accuracy: 0.6225\n",
      "Epoch 7/20\n",
      "200/200 [==============================] - 26s 129ms/step - loss: 0.2231 - accuracy: 0.9267 - val_loss: 2.5337 - val_accuracy: 0.6112\n",
      "Epoch 8/20\n",
      "200/200 [==============================] - 26s 132ms/step - loss: 0.2001 - accuracy: 0.9328 - val_loss: 2.5250 - val_accuracy: 0.6081\n",
      "Epoch 9/20\n",
      "200/200 [==============================] - 27s 135ms/step - loss: 0.1728 - accuracy: 0.9459 - val_loss: 2.7144 - val_accuracy: 0.5950\n",
      "Epoch 10/20\n",
      "200/200 [==============================] - 25s 127ms/step - loss: 0.1657 - accuracy: 0.9495 - val_loss: 3.0994 - val_accuracy: 0.6175\n",
      "Epoch 11/20\n",
      "200/200 [==============================] - 26s 132ms/step - loss: 0.1601 - accuracy: 0.9544 - val_loss: 2.9843 - val_accuracy: 0.6156\n",
      "Epoch 12/20\n",
      "200/200 [==============================] - 26s 133ms/step - loss: 0.1312 - accuracy: 0.9631 - val_loss: 3.4283 - val_accuracy: 0.6156\n",
      "Epoch 13/20\n",
      "200/200 [==============================] - 27s 136ms/step - loss: 0.1190 - accuracy: 0.9633 - val_loss: 3.5594 - val_accuracy: 0.5856\n",
      "Epoch 14/20\n",
      "200/200 [==============================] - 24s 123ms/step - loss: 0.1246 - accuracy: 0.9630 - val_loss: 3.6832 - val_accuracy: 0.6275\n",
      "Epoch 15/20\n",
      "200/200 [==============================] - 26s 132ms/step - loss: 0.1180 - accuracy: 0.9656 - val_loss: 4.3800 - val_accuracy: 0.6212\n",
      "Epoch 16/20\n",
      "200/200 [==============================] - 26s 129ms/step - loss: 0.1147 - accuracy: 0.9664 - val_loss: 4.1363 - val_accuracy: 0.6094\n",
      "Epoch 17/20\n",
      "200/200 [==============================] - 27s 134ms/step - loss: 0.1193 - accuracy: 0.9686 - val_loss: 4.6733 - val_accuracy: 0.6144\n",
      "Epoch 18/20\n",
      "200/200 [==============================] - 26s 129ms/step - loss: 0.1090 - accuracy: 0.9702 - val_loss: 5.4830 - val_accuracy: 0.6269\n",
      "Epoch 19/20\n",
      "200/200 [==============================] - 27s 133ms/step - loss: 0.1156 - accuracy: 0.9711 - val_loss: 4.7037 - val_accuracy: 0.6288\n",
      "Epoch 20/20\n",
      "200/200 [==============================] - 26s 129ms/step - loss: 0.1095 - accuracy: 0.9703 - val_loss: 5.0579 - val_accuracy: 0.6144\n"
     ]
    }
   ],
   "source": [
    "history = model.fit(X_train,\n",
    "                    y_train,\n",
    "                    epochs=20,\n",
    "                    validation_data=(X_val, y_val))"
   ]
  },
  {
   "cell_type": "markdown",
   "metadata": {},
   "source": [
    "### 결과를 한 번 그려봅시다!"
   ]
  },
  {
   "cell_type": "code",
   "execution_count": 72,
   "metadata": {},
   "outputs": [
    {
     "data": {
      "image/png": "[encoded data removed]",
      "text/plain": [
       "<Figure size 432x288 with 1 Axes>"
      ]
     },
     "metadata": {
      "needs_background": "light"
     },
     "output_type": "display_data"
    },
    {
     "data": {
      "image/png": "[encoded data removed]",
      "text/plain": [
       "<Figure size 432x288 with 1 Axes>"
      ]
     },
     "metadata": {
      "needs_background": "light"
     },
     "output_type": "display_data"
    }
   ],
   "source": [
    "import matplotlib.pyplot as plt\n",
    "\n",
    "acc = history.history['accuracy']\n",
    "val_acc = history.history['val_accuracy']\n",
    "loss = history.history['loss']\n",
    "val_loss = history.history['val_loss']\n",
    "\n",
    "epochs = range(1, len(acc) + 1)\n",
    "\n",
    "plt.plot(epochs, acc, 'bo', label='Training acc')\n",
    "plt.plot(epochs, val_acc, 'b', label='Validation acc')\n",
    "plt.title('Training and Validation accuracy')\n",
    "plt.legend()\n",
    "\n",
    "plt.figure()\n",
    "\n",
    "plt.plot(epochs, loss, 'bo', label='Training loss')\n",
    "plt.plot(epochs, val_loss, 'b', label='Validation loss')\n",
    "plt.title('Training and Validation loss')\n",
    "plt.legend()\n",
    "\n",
    "plt.show()"
   ]
  },
  {
   "cell_type": "markdown",
   "metadata": {},
   "source": [
    "헿 오버피팅됐다..!! 😅"
   ]
  },
  {
   "cell_type": "code",
   "execution_count": 70,
   "metadata": {},
   "outputs": [
    {
     "name": "stdout",
     "output_type": "stream",
     "text": [
      "31000/31000 [==============================] - 287s 9ms/step - loss: 4.9703 - accuracy: 0.6281\n"
     ]
    },
    {
     "data": {
      "text/plain": [
       "[4.970290184020996, 0.6281300187110901]"
      ]
     },
     "execution_count": 70,
     "metadata": {},
     "output_type": "execute_result"
    }
   ],
   "source": [
    "model.evaluate(X_test, y_test)"
   ]
  },
  {
   "cell_type": "markdown",
   "metadata": {},
   "source": [
    "## 최종 정확도: 62% 👏👏\n",
    "\n",
    "아주 만족스럽진 않지만, 끝까지 마무리한 나 자신이 너무 대견하다🥺 아쉬운 결과가 아른거린다면 이 모델을 좀 더 개선시키러 돌아와야지..!"
   ]
  }
 ],
 "metadata": {
  "kernelspec": {
   "display_name": "Python 3",
   "language": "python",
   "name": "python3"
  },
  "language_info": {
   "codemirror_mode": {
    "name": "ipython",
    "version": 3
   },
   "file_extension": ".py",
   "mimetype": "text/x-python",
   "name": "python",
   "nbconvert_exporter": "python",
   "pygments_lexer": "ipython3",
   "version": "3.8.5"
  }
 },
 "nbformat": 4,
 "nbformat_minor": 4
}
